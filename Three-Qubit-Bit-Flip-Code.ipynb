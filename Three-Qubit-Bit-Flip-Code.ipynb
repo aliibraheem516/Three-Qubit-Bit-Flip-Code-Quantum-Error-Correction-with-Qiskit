{
 "cells": [
  {
   "cell_type": "code",
   "execution_count": 8,
   "metadata": {},
   "outputs": [
    {
     "name": "stdout",
     "output_type": "stream",
     "text": [
      "{'000': 1000}\n"
     ]
    }
   ],
   "source": [
    "from qiskit import QuantumCircuit, Aer, execute\n",
    "\n",
    "# Step 1: Create a quantum circuit with 3 qubits and 3 classical bit to store the final measurement\n",
    "qc = QuantumCircuit(3, 3)\n",
    "\n",
    "# Step 2: Encode the logical qubit\n",
    "# Copy the state of the first qubit (qubit 0) to the second (qubit 1) and third qubits (qubit 2) using CNOT gates\n",
    "qc.cx(0, 1)  # Entangle qubit 0 with qubit 1\n",
    "qc.cx(0, 2)  # Entangle qubit 0 with qubit 2\n",
    "qc.barrier()  # Add a barrier to separate encoding from the next steps (for clarity)\n",
    "\n",
    "# Step 3: Introduce a bit-flip error on one of the qubits\n",
    "# Apply a Pauli-X gate (simulating a bit-flip error) to the second qubit\n",
    "qc.x(1)\n",
    "qc.barrier()  # Add a barrier to separate error introduction from detection\n",
    "\n",
    "# Step 4: Detect the error\n",
    "# Use CNOT gates to compare the state of the first qubit (qubit 0) with the second (qubit 1) and third qubits (qubit 2)\n",
    "# This helps detect which qubit might have flipped\n",
    "qc.cx(0, 1)  # Compare qubit 0 with qubit 1\n",
    "qc.cx(0, 2)  # Compare qubit 0 with qubit 2\n",
    "qc.barrier()  # Add a barrier to separate detection from correction\n",
    "\n",
    "# Step 5: Correct the error\n",
    "# Use a Toffoli (CCX) gate to flip the first qubit (qubit 0) back if both comparisons detect an error\n",
    "qc.ccx(1, 2, 0)  # Correct the logical qubit based on the results of the parity checks\n",
    "qc.barrier()  # Add a barrier to separate correction from measurement\n",
    "\n",
    "# Step 6: Measure the final state of the logical qubit (qubit 0)\n",
    "qc.measure(0, 0)  # Measure qubit 0 and store the result in the first classical bit\n",
    "\n",
    "# Simulate the circuit\n",
    "# Use Qiskit's Aer simulator to run the circuit 1000 times and observe the results\n",
    "simulator = Aer.get_backend('qasm_simulator')  # Define the simulator backend\n",
    "result = execute(qc, simulator, shots=1000).result()  # Execute the circuit and get the results\n",
    "counts = result.get_counts()  # Get the measurement results (counts of each output state)\n",
    "print(counts)  # Print the results\n"
   ]
  },
  {
   "cell_type": "code",
   "execution_count": 10,
   "metadata": {},
   "outputs": [
    {
     "name": "stdout",
     "output_type": "stream",
     "text": [
      "                ░       ░            ░ ┌───┐ ░ ┌─┐\n",
      "q_0: ──■────■───░───────░───■────■───░─┤ X ├─░─┤M├\n",
      "     ┌─┴─┐  │   ░ ┌───┐ ░ ┌─┴─┐  │   ░ └─┬─┘ ░ └╥┘\n",
      "q_1: ┤ X ├──┼───░─┤ X ├─░─┤ X ├──┼───░───■───░──╫─\n",
      "     └───┘┌─┴─┐ ░ └───┘ ░ └───┘┌─┴─┐ ░   │   ░  ║ \n",
      "q_2: ─────┤ X ├─░───────░──────┤ X ├─░───■───░──╫─\n",
      "          └───┘ ░       ░      └───┘ ░       ░  ║ \n",
      "c: 3/═══════════════════════════════════════════╩═\n",
      "                                                0 \n"
     ]
    }
   ],
   "source": [
    "print(qc.draw('text'))"
   ]
  }
 ],
 "metadata": {
  "kernelspec": {
   "display_name": "testenv",
   "language": "python",
   "name": "python3"
  },
  "language_info": {
   "codemirror_mode": {
    "name": "ipython",
    "version": 3
   },
   "file_extension": ".py",
   "mimetype": "text/x-python",
   "name": "python",
   "nbconvert_exporter": "python",
   "pygments_lexer": "ipython3",
   "version": "3.7.12"
  }
 },
 "nbformat": 4,
 "nbformat_minor": 2
}
